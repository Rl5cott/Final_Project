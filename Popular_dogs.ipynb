{
 "cells": [
  {
   "cell_type": "code",
   "execution_count": 1,
   "metadata": {},
   "outputs": [],
   "source": [
    "#Final Project \n",
    "import pandas as pd\n",
    "import jupyter\n",
    "import _json\n",
    "import requests\n",
    "import numpy\n",
    "import pythonjsonlogger"
   ]
  },
  {
   "cell_type": "code",
   "execution_count": 2,
   "metadata": {},
   "outputs": [
    {
     "data": {
      "text/plain": [
       "['.git',\n",
       " '.gitignore',\n",
       " '.vscode',\n",
       " 'AKC_National_Championship_winners.xlsx',\n",
       " 'AKC_Popular_Breeds_2013-2016.csv',\n",
       " 'C.docx',\n",
       " 'Popular_dogs.ipynb',\n",
       " 'README.md',\n",
       " 'test.py',\n",
       " '~$C.docx']"
      ]
     },
     "execution_count": 2,
     "metadata": {},
     "output_type": "execute_result"
    }
   ],
   "source": [
    "#list out files in folder\n",
    "import os\n",
    "data_files = os.listdir()\n",
    "data_files\n"
   ]
  },
  {
   "cell_type": "code",
   "execution_count": 3,
   "metadata": {},
   "outputs": [
    {
     "data": {
      "text/html": [
       "<div>\n",
       "<style scoped>\n",
       "    .dataframe tbody tr th:only-of-type {\n",
       "        vertical-align: middle;\n",
       "    }\n",
       "\n",
       "    .dataframe tbody tr th {\n",
       "        vertical-align: top;\n",
       "    }\n",
       "\n",
       "    .dataframe thead th {\n",
       "        text-align: right;\n",
       "    }\n",
       "</style>\n",
       "<table border=\"1\" class=\"dataframe\">\n",
       "  <thead>\n",
       "    <tr style=\"text-align: right;\">\n",
       "      <th></th>\n",
       "      <th>Breed</th>\n",
       "      <th>2016 Rank</th>\n",
       "      <th>2015 Rank</th>\n",
       "      <th>2014 Rank</th>\n",
       "      <th>2013 Rank</th>\n",
       "    </tr>\n",
       "  </thead>\n",
       "  <tbody>\n",
       "    <tr>\n",
       "      <th>0</th>\n",
       "      <td>Retrievers (Labrador)</td>\n",
       "      <td>1</td>\n",
       "      <td>1.0</td>\n",
       "      <td>1.0</td>\n",
       "      <td>1.0</td>\n",
       "    </tr>\n",
       "    <tr>\n",
       "      <th>1</th>\n",
       "      <td>German Shepherd Dogs</td>\n",
       "      <td>2</td>\n",
       "      <td>2.0</td>\n",
       "      <td>2.0</td>\n",
       "      <td>2.0</td>\n",
       "    </tr>\n",
       "    <tr>\n",
       "      <th>2</th>\n",
       "      <td>Retrievers (Golden)</td>\n",
       "      <td>3</td>\n",
       "      <td>3.0</td>\n",
       "      <td>3.0</td>\n",
       "      <td>3.0</td>\n",
       "    </tr>\n",
       "    <tr>\n",
       "      <th>3</th>\n",
       "      <td>Bulldogs</td>\n",
       "      <td>4</td>\n",
       "      <td>4.0</td>\n",
       "      <td>4.0</td>\n",
       "      <td>5.0</td>\n",
       "    </tr>\n",
       "    <tr>\n",
       "      <th>4</th>\n",
       "      <td>Beagles</td>\n",
       "      <td>5</td>\n",
       "      <td>5.0</td>\n",
       "      <td>5.0</td>\n",
       "      <td>4.0</td>\n",
       "    </tr>\n",
       "  </tbody>\n",
       "</table>\n",
       "</div>"
      ],
      "text/plain": [
       "                   Breed  2016 Rank  2015 Rank  2014 Rank  2013 Rank\n",
       "0  Retrievers (Labrador)          1        1.0        1.0        1.0\n",
       "1   German Shepherd Dogs          2        2.0        2.0        2.0\n",
       "2    Retrievers (Golden)          3        3.0        3.0        3.0\n",
       "3               Bulldogs          4        4.0        4.0        5.0\n",
       "4                Beagles          5        5.0        5.0        4.0"
      ]
     },
     "execution_count": 3,
     "metadata": {},
     "output_type": "execute_result"
    }
   ],
   "source": [
    "df = pd.read_csv('AKC_Popular_Breeds_2013-2016.csv')\n",
    "df.head()"
   ]
  },
  {
   "cell_type": "code",
   "execution_count": 9,
   "metadata": {},
   "outputs": [
    {
     "data": {
      "text/plain": [
       "<bound method NDFrame.head of           Year                     Breed  \\\n",
       "0         2001              Bichon Frise   \n",
       "1         2002        Kerry Blue Terrier   \n",
       "2         2003           Norfolk Terrier   \n",
       "3         2005                Bloodhound   \n",
       "4   2006 (Jan)          Alaskan Malamute   \n",
       "5   2006 (Dec)  English Springer Spaniel   \n",
       "6         2007          Sealyham Terrier   \n",
       "7         2008                   Pointer   \n",
       "8         2009          Scottish Terrier   \n",
       "9         2010       Australian Shepherd   \n",
       "10        2011           Standard Poodle   \n",
       "11        2012          Wire Fox Terrier   \n",
       "12        2013      Portuguese Water Dog   \n",
       "13        2014              Skye Terrier   \n",
       "14        2015       German Shepherd Dog   \n",
       "15        2016                      Puli   \n",
       "\n",
       "                                        Name Call Name         Group  \n",
       "0                  Special Times Just Right!        JR  Non-sporting  \n",
       "1                       Torums Scarf Michael      Mick       Terrier  \n",
       "2                     Cracknor Cause Celebre      Coco       Terrier  \n",
       "3                  Ch Heathers Knock On Wood    Knotty         Hound  \n",
       "4          Nanuke's Snoklassic No Boundaries  Costello       Working  \n",
       "5                     Felicity's Diamond Jim     James      Sporting  \n",
       "6            Ch. Efbe's Hildago At Goodspice   Charmin       Terrier  \n",
       "7              Cookieland Seasyde Hollyberry     Holly      Sporting  \n",
       "8         Ch. Roundtown Mercedes of Maryscot     Sadie       Terrier  \n",
       "9                         CH Propwash Reckon    Reckon       Herding  \n",
       "10               GCH CH Jaset's Satisfaction    London  Non-sporting  \n",
       "11          GCH CH Afterall Painting The Sky       Sky       Terrier  \n",
       "12   GCH CH Claircreek Impression de Matisse   Matisse       Working  \n",
       "13        GCH CH Cragsmoor Good Time Charlie   Charlie       Terrier  \n",
       "14  GCH CH Lockenhaus' Rumor Has It V Kenlyn     Rumor       Working  \n",
       "15         GCHB CH Cordmaker Mister Blue Sky   Preston       Herding  >"
      ]
     },
     "execution_count": 9,
     "metadata": {},
     "output_type": "execute_result"
    }
   ],
   "source": [
    "df = pd.read_csv('AKC_National_championship_winners.csv')\n",
    "df.head"
   ]
  },
  {
   "cell_type": "code",
   "execution_count": 12,
   "metadata": {},
   "outputs": [
    {
     "ename": "AttributeError",
     "evalue": "module 'glob' has no attribute 'path'",
     "output_type": "error",
     "traceback": [
      "\u001b[1;31m---------------------------------------------------------------------------\u001b[0m",
      "\u001b[1;31mAttributeError\u001b[0m                            Traceback (most recent call last)",
      "Cell \u001b[1;32mIn[12], line 2\u001b[0m\n\u001b[0;32m      1\u001b[0m \u001b[39mimport\u001b[39;00m \u001b[39mglob\u001b[39;00m \u001b[39mas\u001b[39;00m \u001b[39mos\u001b[39;00m\n\u001b[1;32m----> 2\u001b[0m all_files \u001b[39m=\u001b[39m glob\u001b[39m.\u001b[39mglob(os\u001b[39m.\u001b[39;49mpath\u001b[39m.\u001b[39mjoin(path, \u001b[39m\"\u001b[39m\u001b[39mdata_*.csv\u001b[39m\u001b[39m\"\u001b[39m))\n",
      "\u001b[1;31mAttributeError\u001b[0m: module 'glob' has no attribute 'path'"
     ]
    }
   ],
   "source": [
    "import glob as os\n",
    "all_files = glob.glob(os.path.join(path, \"data_*.csv\"))"
   ]
  }
 ],
 "metadata": {
  "kernelspec": {
   "display_name": "Python 3",
   "language": "python",
   "name": "python3"
  },
  "language_info": {
   "codemirror_mode": {
    "name": "ipython",
    "version": 3
   },
   "file_extension": ".py",
   "mimetype": "text/x-python",
   "name": "python",
   "nbconvert_exporter": "python",
   "pygments_lexer": "ipython3",
   "version": "3.11.4"
  },
  "orig_nbformat": 4
 },
 "nbformat": 4,
 "nbformat_minor": 2
}
