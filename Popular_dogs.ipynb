{
 "cells": [
  {
   "cell_type": "code",
   "execution_count": 38,
   "metadata": {},
   "outputs": [],
   "source": [
    "#Final Project import modules\n",
    "import pandas as pd\n",
    "import jupyter\n",
    "import _json\n",
    "import requests\n",
    "import numpy as np\n",
    "import os\n",
    "import glob"
   ]
  },
  {
   "cell_type": "code",
   "execution_count": 39,
   "metadata": {},
   "outputs": [
    {
     "data": {
      "text/plain": [
       "['.git',\n",
       " '.gitignore',\n",
       " '.vscode',\n",
       " 'AKC_Master.csv',\n",
       " 'AKC_National_Championship_winners.csv',\n",
       " 'AKC_National_Championship_winners.xlsx',\n",
       " 'AKC_Popular_Breeds_2013-2016.csv',\n",
       " 'C.docx',\n",
       " 'Popular_dogs.ipynb',\n",
       " 'README.md',\n",
       " 'test.py',\n",
       " '~$C.docx']"
      ]
     },
     "execution_count": 39,
     "metadata": {},
     "output_type": "execute_result"
    }
   ],
   "source": [
    "#list out files in folder\n",
    "data_files = os.listdir()\n",
    "data_files\n"
   ]
  },
  {
   "cell_type": "code",
   "execution_count": 40,
   "metadata": {},
   "outputs": [
    {
     "data": {
      "text/html": [
       "<div>\n",
       "<style scoped>\n",
       "    .dataframe tbody tr th:only-of-type {\n",
       "        vertical-align: middle;\n",
       "    }\n",
       "\n",
       "    .dataframe tbody tr th {\n",
       "        vertical-align: top;\n",
       "    }\n",
       "\n",
       "    .dataframe thead th {\n",
       "        text-align: right;\n",
       "    }\n",
       "</style>\n",
       "<table border=\"1\" class=\"dataframe\">\n",
       "  <thead>\n",
       "    <tr style=\"text-align: right;\">\n",
       "      <th></th>\n",
       "      <th>Breed</th>\n",
       "      <th>2016 Rank</th>\n",
       "      <th>2015 Rank</th>\n",
       "      <th>2014 Rank</th>\n",
       "      <th>2013 Rank</th>\n",
       "    </tr>\n",
       "  </thead>\n",
       "  <tbody>\n",
       "    <tr>\n",
       "      <th>0</th>\n",
       "      <td>Retrievers (Labrador)</td>\n",
       "      <td>1</td>\n",
       "      <td>1.0</td>\n",
       "      <td>1.0</td>\n",
       "      <td>1.0</td>\n",
       "    </tr>\n",
       "    <tr>\n",
       "      <th>1</th>\n",
       "      <td>German Shepherd Dogs</td>\n",
       "      <td>2</td>\n",
       "      <td>2.0</td>\n",
       "      <td>2.0</td>\n",
       "      <td>2.0</td>\n",
       "    </tr>\n",
       "    <tr>\n",
       "      <th>2</th>\n",
       "      <td>Retrievers (Golden)</td>\n",
       "      <td>3</td>\n",
       "      <td>3.0</td>\n",
       "      <td>3.0</td>\n",
       "      <td>3.0</td>\n",
       "    </tr>\n",
       "    <tr>\n",
       "      <th>3</th>\n",
       "      <td>Bulldogs</td>\n",
       "      <td>4</td>\n",
       "      <td>4.0</td>\n",
       "      <td>4.0</td>\n",
       "      <td>5.0</td>\n",
       "    </tr>\n",
       "    <tr>\n",
       "      <th>4</th>\n",
       "      <td>Beagles</td>\n",
       "      <td>5</td>\n",
       "      <td>5.0</td>\n",
       "      <td>5.0</td>\n",
       "      <td>4.0</td>\n",
       "    </tr>\n",
       "  </tbody>\n",
       "</table>\n",
       "</div>"
      ],
      "text/plain": [
       "                   Breed  2016 Rank  2015 Rank  2014 Rank  2013 Rank\n",
       "0  Retrievers (Labrador)          1        1.0        1.0        1.0\n",
       "1   German Shepherd Dogs          2        2.0        2.0        2.0\n",
       "2    Retrievers (Golden)          3        3.0        3.0        3.0\n",
       "3               Bulldogs          4        4.0        4.0        5.0\n",
       "4                Beagles          5        5.0        5.0        4.0"
      ]
     },
     "execution_count": 40,
     "metadata": {},
     "output_type": "execute_result"
    }
   ],
   "source": [
    "# Read in TWO text data sources (in any format).\n",
    "# read the csv AKC_popular_breeds\n",
    "df1 = pd.DataFrame()\n",
    "df = pd.read_csv('AKC_Popular_Breeds_2013-2016.csv')\n",
    "df.head()"
   ]
  },
  {
   "cell_type": "code",
   "execution_count": 41,
   "metadata": {},
   "outputs": [
    {
     "data": {
      "text/plain": [
       "<bound method NDFrame.head of    Year                 Breed                                      Name  \\\n",
       "0  2013  Portuguese Water Dog   GCH CH Claircreek Impression de Matisse   \n",
       "1  2014          Skye Terrier        GCH CH Cragsmoor Good Time Charlie   \n",
       "2  2015   German Shepherd Dog  GCH CH Lockenhaus' Rumor Has It V Kenlyn   \n",
       "3  2016                  Puli         GCHB CH Cordmaker Mister Blue Sky   \n",
       "\n",
       "  Call Name    Group  \n",
       "0   Matisse  Working  \n",
       "1   Charlie  Terrier  \n",
       "2     Rumor  Working  \n",
       "3   Preston  Herding  >"
      ]
     },
     "execution_count": 41,
     "metadata": {},
     "output_type": "execute_result"
    }
   ],
   "source": [
    "#Read in TWO text data sources (in any format).\n",
    "#read the csv AKC winners\n",
    "df2 = pd.DataFrame()  \n",
    "df = pd.read_csv('AKC_National_championship_winners.csv')\n",
    "df.head"
   ]
  },
  {
   "cell_type": "code",
   "execution_count": 42,
   "metadata": {},
   "outputs": [
    {
     "data": {
      "text/plain": [
       "<bound method NDFrame.head of                      Breed  2016 Rank  2015 Rank  2014 Rank  2013 Rank\n",
       "0    Retrievers (Labrador)          1        1.0        1.0        1.0\n",
       "1     German Shepherd Dogs          2        2.0        2.0        2.0\n",
       "2      Retrievers (Golden)          3        3.0        3.0        3.0\n",
       "3                 Bulldogs          4        4.0        4.0        5.0\n",
       "4                  Beagles          5        5.0        5.0        4.0\n",
       "..                     ...        ...        ...        ...        ...\n",
       "184               Sloughis        185        NaN        NaN        NaN\n",
       "185               Harriers        186      183.0      181.0      173.0\n",
       "186      English Foxhounds        187      184.0      183.0      177.0\n",
       "187   Norwegian Lundehunds        188      182.0      184.0      175.0\n",
       "188     American Foxhounds        189      181.0      180.0      176.0\n",
       "\n",
       "[189 rows x 5 columns]>"
      ]
     },
     "execution_count": 42,
     "metadata": {},
     "output_type": "execute_result"
    }
   ],
   "source": [
    "#Clean your data and perform a pandas merge with your two data sets\n",
    "#combine the files\n",
    "path = r'C:\\Users\\rl5co\\Desktop\\myrepo\\Final_Project'\n",
    "all_files = glob.glob(path + \"/*.csv\")\n",
    "li = []\n",
    "for filename in all_files:\n",
    "    df = pd.read_csv(filename, index_col=None, header=0)\n",
    "    li.append(df)\n",
    "    \n",
    "frame = pd.concat(li, axis=0, ignore_index=True)    \n",
    "df.head\n"
   ]
  },
  {
   "cell_type": "code",
   "execution_count": 43,
   "metadata": {},
   "outputs": [],
   "source": [
    "#export combined .csv\n",
    "df.to_csv('AKC_Master.csv', index=False)"
   ]
  },
  {
   "cell_type": "code",
   "execution_count": 44,
   "metadata": {},
   "outputs": [],
   "source": [
    "import matplotlib.pyplot as plt"
   ]
  },
  {
   "cell_type": "code",
   "execution_count": 45,
   "metadata": {},
   "outputs": [
    {
     "data": {
      "text/plain": [
       "<Figure size 1000x700 with 0 Axes>"
      ]
     },
     "metadata": {},
     "output_type": "display_data"
    }
   ],
   "source": [
    "#Make 3 matplotlib or seaborn (or another plotting library) visualizations to display your data.\n",
    "# 1st visualizations\n",
    "\n",
    "data = pd.read_csv(r\"AKC_Master.csv\")\n",
    "data.head()\n",
    "df = pd.DataFrame(data)\n",
    "\n",
    "Year = df[['2016 Rank','2015 Rank', '2014 Rank', '2013 Rank']].head(12)\n",
    "Breed = df['Breed'].head(12)\n",
    "fig = plt.figure(figsize=(10,7))\n",
    "\n",
    "#plt.bar(Year[0:0], Breed[0:0])\n",
    "def new_func(Year, Breed):\n",
    "    plt.bar(Breed[0:10],Year[0:10])\n",
    "\n",
    "\n",
    "\n",
    "plt.show()"
   ]
  },
  {
   "cell_type": "code",
   "execution_count": 46,
   "metadata": {},
   "outputs": [
    {
     "data": {
      "text/plain": [
       "<Figure size 640x480 with 0 Axes>"
      ]
     },
     "metadata": {},
     "output_type": "display_data"
    },
    {
     "data": {
      "image/png": "[encoded data removed]",
      "text/plain": [
       "<Figure size 640x480 with 1 Axes>"
      ]
     },
     "metadata": {},
     "output_type": "display_data"
    },
    {
     "data": {
      "image/png": "[encoded data removed]",
      "text/plain": [
       "<Figure size 640x480 with 4 Axes>"
      ]
     },
     "metadata": {},
     "output_type": "display_data"
    },
    {
     "data": {
      "image/png": "[encoded data removed]",
      "text/plain": [
       "<Figure size 640x480 with 3 Axes>"
      ]
     },
     "metadata": {},
     "output_type": "display_data"
    }
   ],
   "source": [
    "#2nd visualizations\n",
    "fig = plt.figure()\n",
    "fig, ax = plt.subplots()\n",
    "fig, axs = plt.subplots(2,2)\n",
    "fig, axs = plt.subplot_mosaic([['left','right_top'],['left', 'right_bottom']])\n",
    "\n"
   ]
  },
  {
   "cell_type": "code",
   "execution_count": 63,
   "metadata": {},
   "outputs": [],
   "source": [
    "# initializing the data \n",
    "Y = [\"2016 Rank, 2015 Rank, 2014 Rank, 2013 Rank\"]\n",
    "X = [\"Retrievers Labrador,German Shepherd Dogs,Retrievers Golden,Bulldogs\"]"
   ]
  },
  {
   "cell_type": "code",
   "execution_count": 64,
   "metadata": {},
   "outputs": [
    {
     "ename": "TypeError",
     "evalue": "the first argument to axis() must be an iterable of the form [xmin, xmax, ymin, ymax]",
     "output_type": "error",
     "traceback": [
      "\u001b[1;31m---------------------------------------------------------------------------\u001b[0m",
      "\u001b[1;31mValueError\u001b[0m                                Traceback (most recent call last)",
      "File \u001b[1;32mc:\\Users\\rl5co\\AppData\\Local\\Programs\\Python\\Python311\\Lib\\site-packages\\matplotlib\\axes\\_base.py:2108\u001b[0m, in \u001b[0;36m_AxesBase.axis\u001b[1;34m(self, arg, emit, **kwargs)\u001b[0m\n\u001b[0;32m   2107\u001b[0m \u001b[39mtry\u001b[39;00m:\n\u001b[1;32m-> 2108\u001b[0m     xmin, xmax, ymin, ymax \u001b[39m=\u001b[39m arg\n\u001b[0;32m   2109\u001b[0m \u001b[39mexcept\u001b[39;00m (\u001b[39mTypeError\u001b[39;00m, \u001b[39mValueError\u001b[39;00m) \u001b[39mas\u001b[39;00m err:\n",
      "\u001b[1;31mValueError\u001b[0m: not enough values to unpack (expected 4, got 1)",
      "\nThe above exception was the direct cause of the following exception:\n",
      "\u001b[1;31mTypeError\u001b[0m                                 Traceback (most recent call last)",
      "Cell \u001b[1;32mIn[64], line 3\u001b[0m\n\u001b[0;32m      1\u001b[0m \u001b[39m#plotting the data \u001b[39;00m\n\u001b[0;32m      2\u001b[0m plt\u001b[39m.\u001b[39mplot(Y)\n\u001b[1;32m----> 3\u001b[0m plt\u001b[39m.\u001b[39;49maxis(X)\n",
      "File \u001b[1;32mc:\\Users\\rl5co\\AppData\\Local\\Programs\\Python\\Python311\\Lib\\site-packages\\matplotlib\\pyplot.py:2413\u001b[0m, in \u001b[0;36maxis\u001b[1;34m(arg, emit, **kwargs)\u001b[0m\n\u001b[0;32m   2411\u001b[0m \u001b[39m@_copy_docstring_and_deprecators\u001b[39m(Axes\u001b[39m.\u001b[39maxis)\n\u001b[0;32m   2412\u001b[0m \u001b[39mdef\u001b[39;00m \u001b[39maxis\u001b[39m(arg\u001b[39m=\u001b[39m\u001b[39mNone\u001b[39;00m, \u001b[39m/\u001b[39m, \u001b[39m*\u001b[39m, emit\u001b[39m=\u001b[39m\u001b[39mTrue\u001b[39;00m, \u001b[39m*\u001b[39m\u001b[39m*\u001b[39mkwargs):\n\u001b[1;32m-> 2413\u001b[0m     \u001b[39mreturn\u001b[39;00m gca()\u001b[39m.\u001b[39;49maxis(arg, emit\u001b[39m=\u001b[39;49memit, \u001b[39m*\u001b[39;49m\u001b[39m*\u001b[39;49mkwargs)\n",
      "File \u001b[1;32mc:\\Users\\rl5co\\AppData\\Local\\Programs\\Python\\Python311\\Lib\\site-packages\\matplotlib\\axes\\_base.py:2110\u001b[0m, in \u001b[0;36m_AxesBase.axis\u001b[1;34m(self, arg, emit, **kwargs)\u001b[0m\n\u001b[0;32m   2108\u001b[0m         xmin, xmax, ymin, ymax \u001b[39m=\u001b[39m arg\n\u001b[0;32m   2109\u001b[0m     \u001b[39mexcept\u001b[39;00m (\u001b[39mTypeError\u001b[39;00m, \u001b[39mValueError\u001b[39;00m) \u001b[39mas\u001b[39;00m err:\n\u001b[1;32m-> 2110\u001b[0m         \u001b[39mraise\u001b[39;00m \u001b[39mTypeError\u001b[39;00m(\u001b[39m'\u001b[39m\u001b[39mthe first argument to axis() must be an \u001b[39m\u001b[39m'\u001b[39m\n\u001b[0;32m   2111\u001b[0m                         \u001b[39m'\u001b[39m\u001b[39miterable of the form \u001b[39m\u001b[39m'\u001b[39m\n\u001b[0;32m   2112\u001b[0m                         \u001b[39m'\u001b[39m\u001b[39m[xmin, xmax, ymin, ymax]\u001b[39m\u001b[39m'\u001b[39m) \u001b[39mfrom\u001b[39;00m \u001b[39merr\u001b[39;00m\n\u001b[0;32m   2113\u001b[0m \u001b[39melse\u001b[39;00m:\n\u001b[0;32m   2114\u001b[0m     xmin \u001b[39m=\u001b[39m kwargs\u001b[39m.\u001b[39mpop(\u001b[39m'\u001b[39m\u001b[39mxmin\u001b[39m\u001b[39m'\u001b[39m, \u001b[39mNone\u001b[39;00m)\n",
      "\u001b[1;31mTypeError\u001b[0m: the first argument to axis() must be an iterable of the form [xmin, xmax, ymin, ymax]"
     ]
    },
    {
     "data": {
      "image/png": "[encoded data removed]",
      "text/plain": [
       "<Figure size 640x480 with 1 Axes>"
      ]
     },
     "metadata": {},
     "output_type": "display_data"
    }
   ],
   "source": [
    "#plotting the data \n",
    "#plt.plot(Y)\n",
    "#plt.axis(X)"
   ]
  },
  {
   "cell_type": "code",
   "execution_count": 73,
   "metadata": {},
   "outputs": [],
   "source": [
    "labels = str('2016 Rank, 2015 Rank, 2014 Rank, 2013 Rank')\n",
    "sizes = [95, 230, 145, 40, 65]\n",
    "explode = (0, 0.2, 0, 0, 0)"
   ]
  },
  {
   "cell_type": "code",
   "execution_count": 75,
   "metadata": {},
   "outputs": [
    {
     "ename": "ValueError",
     "evalue": "'label' must be of length 'x'",
     "output_type": "error",
     "traceback": [
      "\u001b[1;31m---------------------------------------------------------------------------\u001b[0m",
      "\u001b[1;31mValueError\u001b[0m                                Traceback (most recent call last)",
      "Cell \u001b[1;32mIn[75], line 2\u001b[0m\n\u001b[0;32m      1\u001b[0m fig1, ax1 \u001b[39m=\u001b[39m plt\u001b[39m.\u001b[39msubplots()\n\u001b[1;32m----> 2\u001b[0m ax1\u001b[39m.\u001b[39;49mpie(sizes, explode \u001b[39m=\u001b[39;49m explode, labels \u001b[39m=\u001b[39;49m labels,\n\u001b[0;32m      3\u001b[0m         autopct \u001b[39m=\u001b[39;49m\u001b[39m'\u001b[39;49m\u001b[39m% 1.0f\u001b[39;49;00m\u001b[39m \u001b[39;49m\u001b[39m%%\u001b[39;49;00m\u001b[39m'\u001b[39;49m,\n\u001b[0;32m      4\u001b[0m         shadow \u001b[39m=\u001b[39;49m \u001b[39mTrue\u001b[39;49;00m, startangle \u001b[39m=\u001b[39;49m \u001b[39m90\u001b[39;49m)\n\u001b[0;32m      5\u001b[0m ax1\u001b[39m.\u001b[39maxis(\u001b[39m'\u001b[39m\u001b[39msquare\u001b[39m\u001b[39m'\u001b[39m)\n\u001b[0;32m      6\u001b[0m ax1\u001b[39m.\u001b[39mset_title(\u001b[39m'\u001b[39m\u001b[39mmatplotlib.axes.Axes.axis() \u001b[39m\u001b[39m\\\u001b[39;00m\n\u001b[0;32m      7\u001b[0m \u001b[39mExample\u001b[39m\u001b[39m\\n\u001b[39;00m\u001b[39m'\u001b[39m, fontsize \u001b[39m=\u001b[39m \u001b[39m14\u001b[39m, fontweight \u001b[39m=\u001b[39m\u001b[39m'\u001b[39m\u001b[39mbold\u001b[39m\u001b[39m'\u001b[39m)\n",
      "File \u001b[1;32mc:\\Users\\rl5co\\AppData\\Local\\Programs\\Python\\Python311\\Lib\\site-packages\\matplotlib\\__init__.py:1461\u001b[0m, in \u001b[0;36m_preprocess_data.<locals>.inner\u001b[1;34m(ax, data, *args, **kwargs)\u001b[0m\n\u001b[0;32m   1458\u001b[0m \u001b[39m@functools\u001b[39m\u001b[39m.\u001b[39mwraps(func)\n\u001b[0;32m   1459\u001b[0m \u001b[39mdef\u001b[39;00m \u001b[39minner\u001b[39m(ax, \u001b[39m*\u001b[39margs, data\u001b[39m=\u001b[39m\u001b[39mNone\u001b[39;00m, \u001b[39m*\u001b[39m\u001b[39m*\u001b[39mkwargs):\n\u001b[0;32m   1460\u001b[0m     \u001b[39mif\u001b[39;00m data \u001b[39mis\u001b[39;00m \u001b[39mNone\u001b[39;00m:\n\u001b[1;32m-> 1461\u001b[0m         \u001b[39mreturn\u001b[39;00m func(ax, \u001b[39m*\u001b[39;49m\u001b[39mmap\u001b[39;49m(sanitize_sequence, args), \u001b[39m*\u001b[39;49m\u001b[39m*\u001b[39;49mkwargs)\n\u001b[0;32m   1463\u001b[0m     bound \u001b[39m=\u001b[39m new_sig\u001b[39m.\u001b[39mbind(ax, \u001b[39m*\u001b[39margs, \u001b[39m*\u001b[39m\u001b[39m*\u001b[39mkwargs)\n\u001b[0;32m   1464\u001b[0m     auto_label \u001b[39m=\u001b[39m (bound\u001b[39m.\u001b[39marguments\u001b[39m.\u001b[39mget(label_namer)\n\u001b[0;32m   1465\u001b[0m                   \u001b[39mor\u001b[39;00m bound\u001b[39m.\u001b[39mkwargs\u001b[39m.\u001b[39mget(label_namer))\n",
      "File \u001b[1;32mc:\\Users\\rl5co\\AppData\\Local\\Programs\\Python\\Python311\\Lib\\site-packages\\matplotlib\\axes\\_axes.py:3201\u001b[0m, in \u001b[0;36mAxes.pie\u001b[1;34m(self, x, explode, labels, colors, autopct, pctdistance, shadow, labeldistance, startangle, radius, counterclock, wedgeprops, textprops, center, frame, rotatelabels, normalize, hatch)\u001b[0m\n\u001b[0;32m   3199\u001b[0m     explode \u001b[39m=\u001b[39m [\u001b[39m0\u001b[39m] \u001b[39m*\u001b[39m \u001b[39mlen\u001b[39m(x)\n\u001b[0;32m   3200\u001b[0m \u001b[39mif\u001b[39;00m \u001b[39mlen\u001b[39m(x) \u001b[39m!=\u001b[39m \u001b[39mlen\u001b[39m(labels):\n\u001b[1;32m-> 3201\u001b[0m     \u001b[39mraise\u001b[39;00m \u001b[39mValueError\u001b[39;00m(\u001b[39m\"\u001b[39m\u001b[39m'\u001b[39m\u001b[39mlabel\u001b[39m\u001b[39m'\u001b[39m\u001b[39m must be of length \u001b[39m\u001b[39m'\u001b[39m\u001b[39mx\u001b[39m\u001b[39m'\u001b[39m\u001b[39m\"\u001b[39m)\n\u001b[0;32m   3202\u001b[0m \u001b[39mif\u001b[39;00m \u001b[39mlen\u001b[39m(x) \u001b[39m!=\u001b[39m \u001b[39mlen\u001b[39m(explode):\n\u001b[0;32m   3203\u001b[0m     \u001b[39mraise\u001b[39;00m \u001b[39mValueError\u001b[39;00m(\u001b[39m\"\u001b[39m\u001b[39m'\u001b[39m\u001b[39mexplode\u001b[39m\u001b[39m'\u001b[39m\u001b[39m must be of length \u001b[39m\u001b[39m'\u001b[39m\u001b[39mx\u001b[39m\u001b[39m'\u001b[39m\u001b[39m\"\u001b[39m)\n",
      "\u001b[1;31mValueError\u001b[0m: 'label' must be of length 'x'"
     ]
    },
    {
     "data": {
      "image/png": "[encoded data removed]",
      "text/plain": [
       "<Figure size 640x480 with 1 Axes>"
      ]
     },
     "metadata": {},
     "output_type": "display_data"
    }
   ],
   "source": [
    "fig1, ax1 = plt.subplots()\n",
    "ax1.pie(sizes, explode = explode, labels = labels,\n",
    "        autopct ='% 1.0f %%',\n",
    "        shadow = True, startangle = 90)\n",
    "ax1.axis('square')\n",
    "ax1.set_title('matplotlib.axes.Axes.axis() \\\n",
    "Example\\n', fontsize = 14, fontweight ='bold')\n",
    "plt.show()"
   ]
  }
 ],
 "metadata": {
  "kernelspec": {
   "display_name": "Python 3",
   "language": "python",
   "name": "python3"
  },
  "language_info": {
   "codemirror_mode": {
    "name": "ipython",
    "version": 3
   },
   "file_extension": ".py",
   "mimetype": "text/x-python",
   "name": "python",
   "nbconvert_exporter": "python",
   "pygments_lexer": "ipython3",
   "version": "3.11.4"
  },
  "orig_nbformat": 4
 },
 "nbformat": 4,
 "nbformat_minor": 2
}
