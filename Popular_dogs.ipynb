{
 "cells": [
  {
   "cell_type": "code",
   "execution_count": null,
   "metadata": {},
   "outputs": [],
   "source": [
    "#Final Project import modules\n",
    "import pandas as pd\n",
    "import jupyter\n",
    "import _json\n",
    "import requests\n",
    "import numpy\n",
    "import os\n",
    "import glob"
   ]
  },
  {
   "cell_type": "code",
   "execution_count": null,
   "metadata": {},
   "outputs": [],
   "source": [
    "#list out files in folder\n",
    "data_files = os.listdir()\n",
    "data_files\n"
   ]
  },
  {
   "cell_type": "code",
   "execution_count": null,
   "metadata": {},
   "outputs": [],
   "source": [
    "#read the csv AKC_popular_breeds\n",
    "df1 = pd.DataFrame()\n",
    "df = pd.read_csv('AKC_Popular_Breeds_2013-2016.csv')\n",
    "df.head()"
   ]
  },
  {
   "cell_type": "code",
   "execution_count": null,
   "metadata": {},
   "outputs": [],
   "source": [
    "#read the csv AKC winners\n",
    "df2 = pd.DataFrame()  \n",
    "df = pd.read_csv('AKC_National_championship_winners.csv')\n",
    "df.head"
   ]
  },
  {
   "cell_type": "code",
   "execution_count": 84,
   "metadata": {},
   "outputs": [
    {
     "data": {
      "text/plain": [
       "<bound method NDFrame.head of                      Breed  2016 Rank  2015 Rank  2014 Rank  2013 Rank\n",
       "0    Retrievers (Labrador)          1        1.0        1.0        1.0\n",
       "1     German Shepherd Dogs          2        2.0        2.0        2.0\n",
       "2      Retrievers (Golden)          3        3.0        3.0        3.0\n",
       "3                 Bulldogs          4        4.0        4.0        5.0\n",
       "4                  Beagles          5        5.0        5.0        4.0\n",
       "..                     ...        ...        ...        ...        ...\n",
       "184               Sloughis        185        NaN        NaN        NaN\n",
       "185               Harriers        186      183.0      181.0      173.0\n",
       "186      English Foxhounds        187      184.0      183.0      177.0\n",
       "187   Norwegian Lundehunds        188      182.0      184.0      175.0\n",
       "188     American Foxhounds        189      181.0      180.0      176.0\n",
       "\n",
       "[189 rows x 5 columns]>"
      ]
     },
     "execution_count": 84,
     "metadata": {},
     "output_type": "execute_result"
    }
   ],
   "source": [
    "#combine the files\n",
    "path = r'C:\\Users\\rl5co\\Desktop\\myrepo\\Final_Project'\n",
    "all_files = glob.glob(path + \"/*.csv\")\n",
    "li = []\n",
    "for filename in all_files:\n",
    "    df = pd.read_csv(filename, index_col=None, header=0)\n",
    "    li.append(df)\n",
    "    \n",
    "frame = pd.concat(li, axis=0, ignore_index=True)    \n",
    "df.head\n"
   ]
  },
  {
   "cell_type": "code",
   "execution_count": 87,
   "metadata": {},
   "outputs": [],
   "source": [
    "#export combined .csv\n",
    "df.to_csv('AKC_Master.csv', index=False)"
   ]
  }
 ],
 "metadata": {
  "kernelspec": {
   "display_name": "Python 3",
   "language": "python",
   "name": "python3"
  },
  "language_info": {
   "codemirror_mode": {
    "name": "ipython",
    "version": 3
   },
   "file_extension": ".py",
   "mimetype": "text/x-python",
   "name": "python",
   "nbconvert_exporter": "python",
   "pygments_lexer": "ipython3",
   "version": "3.11.4"
  },
  "orig_nbformat": 4
 },
 "nbformat": 4,
 "nbformat_minor": 2
}
