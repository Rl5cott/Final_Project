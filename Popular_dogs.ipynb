{
 "cells": [
  {
   "cell_type": "code",
   "execution_count": 109,
   "metadata": {},
   "outputs": [],
   "source": [
    "#Final Project import modules\n",
    "import pandas as pd\n",
    "import jupyter\n",
    "import _json\n",
    "import requests\n",
    "import numpy\n",
    "import os\n",
    "import glob"
   ]
  },
  {
   "cell_type": "code",
   "execution_count": 110,
   "metadata": {},
   "outputs": [
    {
     "data": {
      "text/plain": [
       "['.git',\n",
       " '.gitignore',\n",
       " '.vscode',\n",
       " 'AKC_Master.csv',\n",
       " 'AKC_National_Championship_winners.csv',\n",
       " 'AKC_National_Championship_winners.xlsx',\n",
       " 'AKC_Popular_Breeds_2013-2016.csv',\n",
       " 'C.docx',\n",
       " 'Popular_dogs.ipynb',\n",
       " 'README.md',\n",
       " 'test.py',\n",
       " '~$C.docx']"
      ]
     },
     "execution_count": 110,
     "metadata": {},
     "output_type": "execute_result"
    }
   ],
   "source": [
    "#list out files in folder\n",
    "data_files = os.listdir()\n",
    "data_files\n"
   ]
  },
  {
   "cell_type": "code",
   "execution_count": 111,
   "metadata": {},
   "outputs": [
    {
     "data": {
      "text/html": [
       "<div>\n",
       "<style scoped>\n",
       "    .dataframe tbody tr th:only-of-type {\n",
       "        vertical-align: middle;\n",
       "    }\n",
       "\n",
       "    .dataframe tbody tr th {\n",
       "        vertical-align: top;\n",
       "    }\n",
       "\n",
       "    .dataframe thead th {\n",
       "        text-align: right;\n",
       "    }\n",
       "</style>\n",
       "<table border=\"1\" class=\"dataframe\">\n",
       "  <thead>\n",
       "    <tr style=\"text-align: right;\">\n",
       "      <th></th>\n",
       "      <th>Breed</th>\n",
       "      <th>2016 Rank</th>\n",
       "      <th>2015 Rank</th>\n",
       "      <th>2014 Rank</th>\n",
       "      <th>2013 Rank</th>\n",
       "    </tr>\n",
       "  </thead>\n",
       "  <tbody>\n",
       "    <tr>\n",
       "      <th>0</th>\n",
       "      <td>Retrievers (Labrador)</td>\n",
       "      <td>1</td>\n",
       "      <td>1.0</td>\n",
       "      <td>1.0</td>\n",
       "      <td>1.0</td>\n",
       "    </tr>\n",
       "    <tr>\n",
       "      <th>1</th>\n",
       "      <td>German Shepherd Dogs</td>\n",
       "      <td>2</td>\n",
       "      <td>2.0</td>\n",
       "      <td>2.0</td>\n",
       "      <td>2.0</td>\n",
       "    </tr>\n",
       "    <tr>\n",
       "      <th>2</th>\n",
       "      <td>Retrievers (Golden)</td>\n",
       "      <td>3</td>\n",
       "      <td>3.0</td>\n",
       "      <td>3.0</td>\n",
       "      <td>3.0</td>\n",
       "    </tr>\n",
       "    <tr>\n",
       "      <th>3</th>\n",
       "      <td>Bulldogs</td>\n",
       "      <td>4</td>\n",
       "      <td>4.0</td>\n",
       "      <td>4.0</td>\n",
       "      <td>5.0</td>\n",
       "    </tr>\n",
       "    <tr>\n",
       "      <th>4</th>\n",
       "      <td>Beagles</td>\n",
       "      <td>5</td>\n",
       "      <td>5.0</td>\n",
       "      <td>5.0</td>\n",
       "      <td>4.0</td>\n",
       "    </tr>\n",
       "  </tbody>\n",
       "</table>\n",
       "</div>"
      ],
      "text/plain": [
       "                   Breed  2016 Rank  2015 Rank  2014 Rank  2013 Rank\n",
       "0  Retrievers (Labrador)          1        1.0        1.0        1.0\n",
       "1   German Shepherd Dogs          2        2.0        2.0        2.0\n",
       "2    Retrievers (Golden)          3        3.0        3.0        3.0\n",
       "3               Bulldogs          4        4.0        4.0        5.0\n",
       "4                Beagles          5        5.0        5.0        4.0"
      ]
     },
     "execution_count": 111,
     "metadata": {},
     "output_type": "execute_result"
    }
   ],
   "source": [
    "# Read in TWO text data sources (in any format).\n",
    "# read the csv AKC_popular_breeds\n",
    "df1 = pd.DataFrame()\n",
    "df = pd.read_csv('AKC_Popular_Breeds_2013-2016.csv')\n",
    "df.head()"
   ]
  },
  {
   "cell_type": "code",
   "execution_count": 112,
   "metadata": {},
   "outputs": [
    {
     "data": {
      "text/plain": [
       "<bound method NDFrame.head of    Year                 Breed                                      Name  \\\n",
       "0  2013  Portuguese Water Dog   GCH CH Claircreek Impression de Matisse   \n",
       "1  2014          Skye Terrier        GCH CH Cragsmoor Good Time Charlie   \n",
       "2  2015   German Shepherd Dog  GCH CH Lockenhaus' Rumor Has It V Kenlyn   \n",
       "3  2016                  Puli         GCHB CH Cordmaker Mister Blue Sky   \n",
       "\n",
       "  Call Name    Group  \n",
       "0   Matisse  Working  \n",
       "1   Charlie  Terrier  \n",
       "2     Rumor  Working  \n",
       "3   Preston  Herding  >"
      ]
     },
     "execution_count": 112,
     "metadata": {},
     "output_type": "execute_result"
    }
   ],
   "source": [
    "#Read in TWO text data sources (in any format).\n",
    "#read the csv AKC winners\n",
    "df2 = pd.DataFrame()  \n",
    "df = pd.read_csv('AKC_National_championship_winners.csv')\n",
    "df.head"
   ]
  },
  {
   "cell_type": "code",
   "execution_count": 113,
   "metadata": {},
   "outputs": [
    {
     "data": {
      "text/plain": [
       "<bound method NDFrame.head of                      Breed  2016 Rank  2015 Rank  2014 Rank  2013 Rank\n",
       "0    Retrievers (Labrador)          1        1.0        1.0        1.0\n",
       "1     German Shepherd Dogs          2        2.0        2.0        2.0\n",
       "2      Retrievers (Golden)          3        3.0        3.0        3.0\n",
       "3                 Bulldogs          4        4.0        4.0        5.0\n",
       "4                  Beagles          5        5.0        5.0        4.0\n",
       "..                     ...        ...        ...        ...        ...\n",
       "184               Sloughis        185        NaN        NaN        NaN\n",
       "185               Harriers        186      183.0      181.0      173.0\n",
       "186      English Foxhounds        187      184.0      183.0      177.0\n",
       "187   Norwegian Lundehunds        188      182.0      184.0      175.0\n",
       "188     American Foxhounds        189      181.0      180.0      176.0\n",
       "\n",
       "[189 rows x 5 columns]>"
      ]
     },
     "execution_count": 113,
     "metadata": {},
     "output_type": "execute_result"
    }
   ],
   "source": [
    "#Clean your data and perform a pandas merge with your two data sets\n",
    "#combine the files\n",
    "path = r'C:\\Users\\rl5co\\Desktop\\myrepo\\Final_Project'\n",
    "all_files = glob.glob(path + \"/*.csv\")\n",
    "li = []\n",
    "for filename in all_files:\n",
    "    df = pd.read_csv(filename, index_col=None, header=0)\n",
    "    li.append(df)\n",
    "    \n",
    "frame = pd.concat(li, axis=0, ignore_index=True)    \n",
    "df.head\n"
   ]
  },
  {
   "cell_type": "code",
   "execution_count": 117,
   "metadata": {},
   "outputs": [],
   "source": [
    "#export combined .csv\n",
    "df.to_csv('AKC_Master.csv', index=False)"
   ]
  },
  {
   "cell_type": "code",
   "execution_count": 118,
   "metadata": {},
   "outputs": [],
   "source": [
    "import matplotlib.pyplot as plt"
   ]
  },
  {
   "cell_type": "code",
   "execution_count": null,
   "metadata": {},
   "outputs": [],
   "source": [
    "#ax = df['AKC_Master.csv'].plot(kind='bar',title = \"Popularity per year\", figsize=(15,10),\n",
    "#legend=True, Fontsize = 12)\n",
    "#ax.set_xlabel(\"year\", fontsize=12)\n",
    "#ax.set_ylabel(\"Breed\", fontsize=12)\n",
    "#plt.show()"
   ]
  },
  {
   "cell_type": "code",
   "execution_count": 158,
   "metadata": {},
   "outputs": [
    {
     "data": {
      "text/plain": [
       "<Figure size 1000x700 with 0 Axes>"
      ]
     },
     "metadata": {},
     "output_type": "display_data"
    }
   ],
   "source": [
    "data = pd.read_csv(r\"AKC_Master.csv\")\n",
    "data.head()\n",
    "df = pd.DataFrame(data)\n",
    "\n",
    "Year = df[['2016 Rank','2015 Rank', '2014 Rank', '2013 Rank']].head(12)\n",
    "Breed = df['Breed'].head(12)\n",
    "fig = plt.figure(figsize=(10,7))\n",
    "\n",
    "#plt.bar(Year[0:0], Breed[0:0])\n",
    "def new_func(Year, Breed):\n",
    "    plt.bar(Breed[0:10],Year[0:10])\n",
    "\n",
    "\n",
    "\n",
    "plt.show()"
   ]
  }
 ],
 "metadata": {
  "kernelspec": {
   "display_name": "Python 3",
   "language": "python",
   "name": "python3"
  },
  "language_info": {
   "codemirror_mode": {
    "name": "ipython",
    "version": 3
   },
   "file_extension": ".py",
   "mimetype": "text/x-python",
   "name": "python",
   "nbconvert_exporter": "python",
   "pygments_lexer": "ipython3",
   "version": "3.11.4"
  },
  "orig_nbformat": 4
 },
 "nbformat": 4,
 "nbformat_minor": 2
}
